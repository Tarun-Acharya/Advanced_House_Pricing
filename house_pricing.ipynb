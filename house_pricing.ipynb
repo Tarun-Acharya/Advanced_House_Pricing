{
 "cells": [
  {
   "cell_type": "code",
   "execution_count": 1,
   "metadata": {},
   "outputs": [
    {
     "name": "stdout",
     "output_type": "stream",
     "text": [
      "                Id   MSSubClass  LotFrontage        LotArea  OverallQual  \\\n",
      "count  1460.000000  1460.000000  1201.000000    1460.000000  1460.000000   \n",
      "mean    730.500000    56.897260    70.049958   10516.828082     6.099315   \n",
      "std     421.610009    42.300571    24.284752    9981.264932     1.382997   \n",
      "min       1.000000    20.000000    21.000000    1300.000000     1.000000   \n",
      "25%     365.750000    20.000000    59.000000    7553.500000     5.000000   \n",
      "50%     730.500000    50.000000    69.000000    9478.500000     6.000000   \n",
      "75%    1095.250000    70.000000    80.000000   11601.500000     7.000000   \n",
      "max    1460.000000   190.000000   313.000000  215245.000000    10.000000   \n",
      "\n",
      "       OverallCond    YearBuilt  YearRemodAdd   MasVnrArea   BsmtFinSF1  ...  \\\n",
      "count  1460.000000  1460.000000   1460.000000  1452.000000  1460.000000  ...   \n",
      "mean      5.575342  1971.267808   1984.865753   103.685262   443.639726  ...   \n",
      "std       1.112799    30.202904     20.645407   181.066207   456.098091  ...   \n",
      "min       1.000000  1872.000000   1950.000000     0.000000     0.000000  ...   \n",
      "25%       5.000000  1954.000000   1967.000000     0.000000     0.000000  ...   \n",
      "50%       5.000000  1973.000000   1994.000000     0.000000   383.500000  ...   \n",
      "75%       6.000000  2000.000000   2004.000000   166.000000   712.250000  ...   \n",
      "max       9.000000  2010.000000   2010.000000  1600.000000  5644.000000  ...   \n",
      "\n",
      "        WoodDeckSF  OpenPorchSF  EnclosedPorch    3SsnPorch  ScreenPorch  \\\n",
      "count  1460.000000  1460.000000    1460.000000  1460.000000  1460.000000   \n",
      "mean     94.244521    46.660274      21.954110     3.409589    15.060959   \n",
      "std     125.338794    66.256028      61.119149    29.317331    55.757415   \n",
      "min       0.000000     0.000000       0.000000     0.000000     0.000000   \n",
      "25%       0.000000     0.000000       0.000000     0.000000     0.000000   \n",
      "50%       0.000000    25.000000       0.000000     0.000000     0.000000   \n",
      "75%     168.000000    68.000000       0.000000     0.000000     0.000000   \n",
      "max     857.000000   547.000000     552.000000   508.000000   480.000000   \n",
      "\n",
      "          PoolArea       MiscVal       MoSold       YrSold      SalePrice  \n",
      "count  1460.000000   1460.000000  1460.000000  1460.000000    1460.000000  \n",
      "mean      2.758904     43.489041     6.321918  2007.815753  180921.195890  \n",
      "std      40.177307    496.123024     2.703626     1.328095   79442.502883  \n",
      "min       0.000000      0.000000     1.000000  2006.000000   34900.000000  \n",
      "25%       0.000000      0.000000     5.000000  2007.000000  129975.000000  \n",
      "50%       0.000000      0.000000     6.000000  2008.000000  163000.000000  \n",
      "75%       0.000000      0.000000     8.000000  2009.000000  214000.000000  \n",
      "max     738.000000  15500.000000    12.000000  2010.000000  755000.000000  \n",
      "\n",
      "[8 rows x 38 columns]\n",
      "                Id   MSSubClass  LotFrontage       LotArea  OverallQual  \\\n",
      "count  1459.000000  1459.000000  1232.000000   1459.000000  1459.000000   \n",
      "mean   2190.000000    57.378341    68.580357   9819.161069     6.078821   \n",
      "std     421.321334    42.746880    22.376841   4955.517327     1.436812   \n",
      "min    1461.000000    20.000000    21.000000   1470.000000     1.000000   \n",
      "25%    1825.500000    20.000000    58.000000   7391.000000     5.000000   \n",
      "50%    2190.000000    50.000000    67.000000   9399.000000     6.000000   \n",
      "75%    2554.500000    70.000000    80.000000  11517.500000     7.000000   \n",
      "max    2919.000000   190.000000   200.000000  56600.000000    10.000000   \n",
      "\n",
      "       OverallCond    YearBuilt  YearRemodAdd   MasVnrArea   BsmtFinSF1  ...  \\\n",
      "count  1459.000000  1459.000000   1459.000000  1444.000000  1458.000000  ...   \n",
      "mean      5.553804  1971.357779   1983.662783   100.709141   439.203704  ...   \n",
      "std       1.113740    30.390071     21.130467   177.625900   455.268042  ...   \n",
      "min       1.000000  1879.000000   1950.000000     0.000000     0.000000  ...   \n",
      "25%       5.000000  1953.000000   1963.000000     0.000000     0.000000  ...   \n",
      "50%       5.000000  1973.000000   1992.000000     0.000000   350.500000  ...   \n",
      "75%       6.000000  2001.000000   2004.000000   164.000000   753.500000  ...   \n",
      "max       9.000000  2010.000000   2010.000000  1290.000000  4010.000000  ...   \n",
      "\n",
      "        GarageArea   WoodDeckSF  OpenPorchSF  EnclosedPorch    3SsnPorch  \\\n",
      "count  1458.000000  1459.000000  1459.000000    1459.000000  1459.000000   \n",
      "mean    472.768861    93.174777    48.313914      24.243317     1.794380   \n",
      "std     217.048611   127.744882    68.883364      67.227765    20.207842   \n",
      "min       0.000000     0.000000     0.000000       0.000000     0.000000   \n",
      "25%     318.000000     0.000000     0.000000       0.000000     0.000000   \n",
      "50%     480.000000     0.000000    28.000000       0.000000     0.000000   \n",
      "75%     576.000000   168.000000    72.000000       0.000000     0.000000   \n",
      "max    1488.000000  1424.000000   742.000000    1012.000000   360.000000   \n",
      "\n",
      "       ScreenPorch     PoolArea       MiscVal       MoSold       YrSold  \n",
      "count  1459.000000  1459.000000   1459.000000  1459.000000  1459.000000  \n",
      "mean     17.064428     1.744345     58.167923     6.104181  2007.769705  \n",
      "std      56.609763    30.491646    630.806978     2.722432     1.301740  \n",
      "min       0.000000     0.000000      0.000000     1.000000  2006.000000  \n",
      "25%       0.000000     0.000000      0.000000     4.000000  2007.000000  \n",
      "50%       0.000000     0.000000      0.000000     6.000000  2008.000000  \n",
      "75%       0.000000     0.000000      0.000000     8.000000  2009.000000  \n",
      "max     576.000000   800.000000  17000.000000    12.000000  2010.000000  \n",
      "\n",
      "[8 rows x 37 columns]\n"
     ]
    }
   ],
   "source": [
    "import pandas as pd\n",
    "data=pd.read_csv('train.csv')\n",
    "print(data.describe())\n",
    "#print(data.head())\n",
    "data1=pd.read_csv('test.csv')\n",
    "print(data1.describe())\n",
    "#print(data.head())\n"
   ]
  },
  {
   "cell_type": "code",
   "execution_count": 2,
   "metadata": {},
   "outputs": [
    {
     "name": "stdout",
     "output_type": "stream",
     "text": [
      "Id                 0\n",
      "MSSubClass         0\n",
      "MSZoning           0\n",
      "LotFrontage      259\n",
      "LotArea            0\n",
      "                ... \n",
      "MoSold             0\n",
      "YrSold             0\n",
      "SaleType           0\n",
      "SaleCondition      0\n",
      "SalePrice          0\n",
      "Length: 81, dtype: int64\n"
     ]
    }
   ],
   "source": [
    "print(data.isnull().sum())"
   ]
  },
  {
   "cell_type": "code",
   "execution_count": 3,
   "metadata": {},
   "outputs": [],
   "source": [
    "data=pd.get_dummies(data, columns=[\"MSZoning\"])\n",
    "data1=pd.get_dummies(data1, columns=[\"MSZoning\"])"
   ]
  },
  {
   "cell_type": "code",
   "execution_count": 4,
   "metadata": {},
   "outputs": [],
   "source": [
    "data['LotFrontage']=data['LotFrontage'].fillna(0)\n",
    "data1['LotFrontage']=data1['LotFrontage'].fillna(0)"
   ]
  },
  {
   "cell_type": "code",
   "execution_count": 5,
   "metadata": {},
   "outputs": [],
   "source": [
    "data=pd.get_dummies(data, columns=[\"Street\"])\n",
    "data1=pd.get_dummies(data1, columns=[\"Street\"])"
   ]
  },
  {
   "cell_type": "code",
   "execution_count": 6,
   "metadata": {},
   "outputs": [],
   "source": [
    "data=pd.get_dummies(data, columns=[\"Alley\"])\n",
    "data1=pd.get_dummies(data1, columns=[\"Alley\"])"
   ]
  },
  {
   "cell_type": "code",
   "execution_count": 7,
   "metadata": {},
   "outputs": [],
   "source": [
    "data['LotShape']=data.LotShape.map({\n",
    "    'Reg': 3,\n",
    "    'IR1': 2,\n",
    "    'IR2': 1,\n",
    "    'IR3': 0\n",
    "     # ... and so on. You get the idea ...\n",
    "})\n",
    "data1['LotShape']=data1.LotShape.map({\n",
    "    'Reg': 3,\n",
    "    'IR1': 2,\n",
    "    'IR2': 1,\n",
    "    'IR3': 0\n",
    "     # ... and so on. You get the idea ...\n",
    "})"
   ]
  },
  {
   "cell_type": "code",
   "execution_count": 8,
   "metadata": {},
   "outputs": [],
   "source": [
    "data=pd.get_dummies(data, columns=[\"LandContour\"])\n",
    "data1=pd.get_dummies(data1, columns=[\"LandContour\"])"
   ]
  },
  {
   "cell_type": "code",
   "execution_count": 9,
   "metadata": {},
   "outputs": [],
   "source": [
    "data['Utilities']=data.Utilities.map({\n",
    "    'AllPub': 3,\n",
    "    'NoSewr': 2,\n",
    "    'NoSeWa': 1,\n",
    "    'ELO': 0\n",
    "     # ... and so on. You get the idea ...\n",
    "})\n",
    "data['Utilities']=data['Utilities'].fillna(-1)\n",
    "data1['Utilities']=data1.Utilities.map({\n",
    "    'AllPub': 3,\n",
    "    'NoSewr': 2,\n",
    "    'NoSeWa': 1,\n",
    "    'ELO': 0\n",
    "     # ... and so on. You get the idea ...\n",
    "})\n",
    "data1['Utilities']=data1['Utilities'].fillna(-1)"
   ]
  },
  {
   "cell_type": "code",
   "execution_count": 10,
   "metadata": {},
   "outputs": [],
   "source": [
    "data=pd.get_dummies(data, columns=[\"LotConfig\"])\n",
    "data1=pd.get_dummies(data1, columns=[\"LotConfig\"])"
   ]
  },
  {
   "cell_type": "code",
   "execution_count": 11,
   "metadata": {},
   "outputs": [],
   "source": [
    "data['LandSlope']=data.LandSlope.map({\n",
    "    'Gtl': 2,\n",
    "    'Mod': 1,\n",
    "    'Sev': 0,\n",
    "    \n",
    "     # ... and so on. You get the idea ...\n",
    "})\n",
    "data1['LandSlope']=data1.LandSlope.map({\n",
    "    'Gtl': 2,\n",
    "    'Mod': 1,\n",
    "    'Sev': 0,\n",
    "    \n",
    "     # ... and so on. You get the idea ...\n",
    "})"
   ]
  },
  {
   "cell_type": "code",
   "execution_count": 12,
   "metadata": {},
   "outputs": [],
   "source": [
    "data=pd.get_dummies(data, columns=[\"Neighborhood\"])\n",
    "data1=pd.get_dummies(data1, columns=[\"Neighborhood\"])"
   ]
  },
  {
   "cell_type": "code",
   "execution_count": 13,
   "metadata": {},
   "outputs": [],
   "source": [
    "data=pd.get_dummies(data, columns=[\"Condition1\"])\n",
    "data1=pd.get_dummies(data1, columns=[\"Condition1\"])"
   ]
  },
  {
   "cell_type": "code",
   "execution_count": 14,
   "metadata": {},
   "outputs": [],
   "source": [
    "data=pd.get_dummies(data, columns=[\"Condition2\"])\n",
    "data1=pd.get_dummies(data1, columns=[\"Condition2\"])"
   ]
  },
  {
   "cell_type": "code",
   "execution_count": 15,
   "metadata": {},
   "outputs": [],
   "source": [
    "data=pd.get_dummies(data, columns=[\"BldgType\"])\n",
    "data1=pd.get_dummies(data1, columns=[\"BldgType\"])"
   ]
  },
  {
   "cell_type": "code",
   "execution_count": 16,
   "metadata": {},
   "outputs": [],
   "source": [
    "data['HouseStyle']=data.HouseStyle.map({\n",
    "    '1Story': 0,\n",
    "    '1.5Unf': 1,\n",
    "    '1.5Fin': 2,\n",
    "    '2Story': 3,\n",
    "    '2.5Unf': 4,\n",
    "    '2.5Fin': 5,\n",
    "    'SFoyer': 6,\n",
    "    'SLvl':7   \n",
    "    \n",
    "     # ... and so on. You get the idea ...\n",
    "})\n",
    "data1['HouseStyle']=data1.HouseStyle.map({\n",
    "    '1Story': 0,\n",
    "    '1.5Unf': 1,\n",
    "    '1.5Fin': 2,\n",
    "    '2Story': 3,\n",
    "    '2.5Unf': 4,\n",
    "    '2.5Fin': 5,\n",
    "    'SFoyer': 6,\n",
    "    'SLvl':7   \n",
    "    \n",
    "     # ... and so on. You get the idea ...\n",
    "})"
   ]
  },
  {
   "cell_type": "code",
   "execution_count": 17,
   "metadata": {},
   "outputs": [],
   "source": [
    "data=pd.get_dummies(data, columns=[\"RoofStyle\"])\n",
    "data1=pd.get_dummies(data1, columns=[\"RoofStyle\"])"
   ]
  },
  {
   "cell_type": "code",
   "execution_count": 18,
   "metadata": {},
   "outputs": [],
   "source": [
    "data=pd.get_dummies(data, columns=[\"RoofMatl\"])\n",
    "data1=pd.get_dummies(data1, columns=[\"RoofMatl\"])"
   ]
  },
  {
   "cell_type": "code",
   "execution_count": 19,
   "metadata": {},
   "outputs": [],
   "source": [
    "data=pd.get_dummies(data, columns=[\"Exterior1st\"])\n",
    "data1=pd.get_dummies(data1, columns=[\"Exterior1st\"])"
   ]
  },
  {
   "cell_type": "code",
   "execution_count": 20,
   "metadata": {},
   "outputs": [],
   "source": [
    "data=pd.get_dummies(data, columns=[\"Exterior2nd\"])\n",
    "data1=pd.get_dummies(data1, columns=[\"Exterior2nd\"])"
   ]
  },
  {
   "cell_type": "code",
   "execution_count": 21,
   "metadata": {},
   "outputs": [],
   "source": [
    "data=pd.get_dummies(data, columns=[\"MasVnrType\"])\n",
    "data1=pd.get_dummies(data1, columns=[\"MasVnrType\"])"
   ]
  },
  {
   "cell_type": "code",
   "execution_count": 22,
   "metadata": {},
   "outputs": [],
   "source": [
    "data['MasVnrArea']=data['MasVnrArea'].fillna(-1)\n",
    "data1['MasVnrArea']=data1['MasVnrArea'].fillna(-1)"
   ]
  },
  {
   "cell_type": "code",
   "execution_count": 23,
   "metadata": {},
   "outputs": [],
   "source": [
    "data['ExterQual']=data.ExterQual.map({\n",
    "    'Po': 0,\n",
    "    'Fa': 1,\n",
    "    'TA': 2,\n",
    "    'Gd': 3,\n",
    "    'Ex': 4,\n",
    "      \n",
    "    \n",
    "     # ... and so on. You get the idea ...\n",
    "})\n",
    "data1['ExterQual']=data1.ExterQual.map({\n",
    "    'Po': 0,\n",
    "    'Fa': 1,\n",
    "    'TA': 2,\n",
    "    'Gd': 3,\n",
    "    'Ex': 4,\n",
    "      \n",
    "    \n",
    "     # ... and so on. You get the idea ...\n",
    "})"
   ]
  },
  {
   "cell_type": "code",
   "execution_count": 24,
   "metadata": {},
   "outputs": [],
   "source": [
    "data['ExterCond']=data.ExterCond.map({\n",
    "    'Po': 0,\n",
    "    'Fa': 1,\n",
    "    'TA': 2,\n",
    "    'Gd': 3,\n",
    "    'Ex': 4,\n",
    "      \n",
    "    \n",
    "     # ... and so on. You get the idea ...\n",
    "})\n",
    "data1['ExterCond']=data1.ExterCond.map({\n",
    "    'Po': 0,\n",
    "    'Fa': 1,\n",
    "    'TA': 2,\n",
    "    'Gd': 3,\n",
    "    'Ex': 4,\n",
    "      \n",
    "    \n",
    "     # ... and so on. You get the idea ...\n",
    "})"
   ]
  },
  {
   "cell_type": "code",
   "execution_count": 25,
   "metadata": {},
   "outputs": [],
   "source": [
    "data=pd.get_dummies(data, columns=[\"Foundation\"])\n",
    "data1=pd.get_dummies(data1, columns=[\"Foundation\"])"
   ]
  },
  {
   "cell_type": "code",
   "execution_count": 26,
   "metadata": {},
   "outputs": [],
   "source": [
    "data['BsmtQual']=data.BsmtQual.map({\n",
    "    'NA':0,\n",
    "    \n",
    "    'Po': 1,\n",
    "    'Fa': 2,\n",
    "    'TA': 3,\n",
    "    'Gd': 4,\n",
    "    'Ex': 5,\n",
    "       \n",
    "    \n",
    "     # ... and so on. You get the idea ...\n",
    "})\n",
    "data['BsmtQual']=data['BsmtQual'].fillna(-1)\n",
    "data1['BsmtQual']=data1.BsmtQual.map({\n",
    "    'NA':0,\n",
    "    \n",
    "    'Po': 1,\n",
    "    'Fa': 2,\n",
    "    'TA': 3,\n",
    "    'Gd': 4,\n",
    "    'Ex': 5,\n",
    "       \n",
    "    \n",
    "     # ... and so on. You get the idea ...\n",
    "})\n",
    "data1['BsmtQual']=data1['BsmtQual'].fillna(-1)"
   ]
  },
  {
   "cell_type": "code",
   "execution_count": 27,
   "metadata": {},
   "outputs": [],
   "source": [
    "data['BsmtCond']=data.BsmtCond.map({\n",
    "    'NA':-1,\n",
    "    'Po': 0,\n",
    "    'Fa': 1,\n",
    "    'TA': 2,\n",
    "    'Gd': 3,\n",
    "    'Ex': 4,      \n",
    "    \n",
    "     # ... and so on. You get the idea ...\n",
    "})\n",
    "data['BsmtCond']=data['BsmtCond'].fillna(-1)\n",
    "data1['BsmtCond']=data1.BsmtCond.map({\n",
    "    'NA':-1,\n",
    "    'Po': 0,\n",
    "    'Fa': 1,\n",
    "    'TA': 2,\n",
    "    'Gd': 3,\n",
    "    'Ex': 4,      \n",
    "    \n",
    "     # ... and so on. You get the idea ...\n",
    "})\n",
    "data1['BsmtCond']=data1['BsmtCond'].fillna(-1)\n"
   ]
  },
  {
   "cell_type": "code",
   "execution_count": 28,
   "metadata": {},
   "outputs": [],
   "source": [
    "data['BsmtExposure']=data.BsmtExposure.map({\n",
    "    'NA':-1,\n",
    "    'No': 0,\n",
    "    'Mn': 1,\n",
    "    'Av': 2,\n",
    "    'Gd': 3,\n",
    "          \n",
    "    \n",
    "     # ... and so on. You get the idea ...\n",
    "})\n",
    "data['BsmtExposure']=data['BsmtExposure'].fillna(-1)\n",
    "data1['BsmtExposure']=data1.BsmtExposure.map({\n",
    "    'NA':-1,\n",
    "    'No': 0,\n",
    "    'Mn': 1,\n",
    "    'Av': 2,\n",
    "    'Gd': 3,\n",
    "          \n",
    "    \n",
    "     # ... and so on. You get the idea ...\n",
    "})\n",
    "data1['BsmtExposure']=data1['BsmtExposure'].fillna(-1)"
   ]
  },
  {
   "cell_type": "code",
   "execution_count": 29,
   "metadata": {},
   "outputs": [],
   "source": [
    "data['BsmtFinSF1']=data['BsmtFinSF1'].fillna(0)\n",
    "data['BsmtHalfBath']=data['BsmtHalfBath'].fillna(0)\n",
    "data['BsmtFullBath']=data['BsmtFullBath'].fillna(0)\n",
    "data1['BsmtFinSF1']=data1['BsmtFinSF1'].fillna(0)\n",
    "data1['BsmtHalfBath']=data1['BsmtHalfBath'].fillna(0)\n",
    "data1['BsmtFullBath']=data1['BsmtFullBath'].fillna(0)"
   ]
  },
  {
   "cell_type": "code",
   "execution_count": 30,
   "metadata": {},
   "outputs": [],
   "source": [
    "data['BsmtFinType1']=data.BsmtFinType1.map({\n",
    "    'NA':-1,\n",
    "    'Unf': 0,\n",
    "    'LwQ': 1,\n",
    "    'Rec': 2,\n",
    "    'BLQ': 3,\n",
    "    'ALQ':4,\n",
    "    'GLQ':5\n",
    "          \n",
    "    \n",
    "     # ... and so on. You get the idea ...\n",
    "})\n",
    "data['BsmtFinType1']=data['BsmtFinType1'].fillna(-1)\n",
    "data1['BsmtFinType1']=data1.BsmtFinType1.map({\n",
    "    'NA':-1,\n",
    "    'Unf': 0,\n",
    "    'LwQ': 1,\n",
    "    'Rec': 2,\n",
    "    'BLQ': 3,\n",
    "    'ALQ':4,\n",
    "    'GLQ':5\n",
    "          \n",
    "    \n",
    "     # ... and so on. You get the idea ...\n",
    "})\n",
    "data1['BsmtFinType1']=data1['BsmtFinType1'].fillna(-1)"
   ]
  },
  {
   "cell_type": "code",
   "execution_count": 31,
   "metadata": {},
   "outputs": [],
   "source": [
    "data['BsmtFinType2']=data.BsmtFinType2.map({\n",
    "    'NA':-1,\n",
    "    'Unf': 0,\n",
    "    'LwQ': 1,\n",
    "    'Rec': 2,\n",
    "    'BLQ': 3,\n",
    "    'ALQ':4,\n",
    "    'GLQ':5\n",
    "          \n",
    "    \n",
    "     # ... and so on. You get the idea ...\n",
    "})\n",
    "data['BsmtFinType2']=data['BsmtFinType2'].fillna(-1)\n",
    "data1['BsmtFinType2']=data1.BsmtFinType2.map({\n",
    "    'NA':-1,\n",
    "    'Unf': 0,\n",
    "    'LwQ': 1,\n",
    "    'Rec': 2,\n",
    "    'BLQ': 3,\n",
    "    'ALQ':4,\n",
    "    'GLQ':5\n",
    "          \n",
    "    \n",
    "     # ... and so on. You get the idea ...\n",
    "})\n",
    "data1['BsmtFinType2']=data1['BsmtFinType2'].fillna(-1)"
   ]
  },
  {
   "cell_type": "code",
   "execution_count": 32,
   "metadata": {},
   "outputs": [],
   "source": [
    "data['BsmtFinSF2']=data['BsmtFinSF2'].fillna(0)\n",
    "data['BsmtUnfSF']=data['BsmtUnfSF'].fillna(0)\n",
    "data['TotalBsmtSF']=data['TotalBsmtSF'].fillna(0)\n",
    "data=pd.get_dummies(data, columns=[\"Heating\"])\n",
    "data1['BsmtFinSF2']=data1['BsmtFinSF2'].fillna(0)\n",
    "data1['BsmtUnfSF']=data1['BsmtUnfSF'].fillna(0)\n",
    "data1['TotalBsmtSF']=data1['TotalBsmtSF'].fillna(0)\n",
    "data1=pd.get_dummies(data1, columns=[\"Heating\"])"
   ]
  },
  {
   "cell_type": "code",
   "execution_count": 33,
   "metadata": {},
   "outputs": [],
   "source": [
    "data['HeatingQC']=data.HeatingQC.map({\n",
    "    'Po': 0,\n",
    "    'Fa': 1,\n",
    "    'TA': 2,\n",
    "    'Gd': 3,\n",
    "    'Ex': 4,      \n",
    "    \n",
    "     # ... and so on. You get the idea ...\n",
    "})\n",
    "data1['HeatingQC']=data1.HeatingQC.map({\n",
    "    'Po': 0,\n",
    "    'Fa': 1,\n",
    "    'TA': 2,\n",
    "    'Gd': 3,\n",
    "    'Ex': 4,      \n",
    "    \n",
    "     # ... and so on. You get the idea ...\n",
    "})"
   ]
  },
  {
   "cell_type": "code",
   "execution_count": 34,
   "metadata": {},
   "outputs": [],
   "source": [
    "data['CentralAir']=data.CentralAir.map({\n",
    "    'N': 0,\n",
    "    'Y': 1,      \n",
    "    \n",
    "     # ... and so on. You get the idea ...\n",
    "})\n",
    "data1['CentralAir']=data1.CentralAir.map({\n",
    "    'N': 0,\n",
    "    'Y': 1,      \n",
    "    \n",
    "     # ... and so on. You get the idea ...\n",
    "})"
   ]
  },
  {
   "cell_type": "code",
   "execution_count": 35,
   "metadata": {},
   "outputs": [],
   "source": [
    "data['Electrical']=data.Electrical.map({\n",
    "    'SBrkr': 0,\n",
    "    'FuseA': 1,\n",
    "    'FuseF': 2,\n",
    "    'FuseP': 3,\n",
    "    'Mix': 4,      \n",
    "    \n",
    "     # ... and so on. You get the idea ...\n",
    "})\n",
    "data['Electrical']=data['Electrical'].fillna('-1')\n",
    "data1['Electrical']=data1.Electrical.map({\n",
    "    'SBrkr': 0,\n",
    "    'FuseA': 1,\n",
    "    'FuseF': 2,\n",
    "    'FuseP': 3,\n",
    "    'Mix': 4,      \n",
    "    \n",
    "     # ... and so on. You get the idea ...\n",
    "})\n",
    "data1['Electrical']=data1['Electrical'].fillna('-1')"
   ]
  },
  {
   "cell_type": "code",
   "execution_count": 36,
   "metadata": {},
   "outputs": [],
   "source": [
    "data['KitchenQual']=data.KitchenQual.map({\n",
    "    'Po': 0,\n",
    "    'Fa': 1,\n",
    "    'TA': 2,\n",
    "    'Gd': 3,\n",
    "    'Ex': 4,      \n",
    "    \n",
    "     # ... and so on. You get the idea ...\n",
    "})\n",
    "data['KitchenQual']=data['KitchenQual'].fillna(-1)\n",
    "data1['KitchenQual']=data1.KitchenQual.map({\n",
    "    'Po': 0,\n",
    "    'Fa': 1,\n",
    "    'TA': 2,\n",
    "    'Gd': 3,\n",
    "    'Ex': 4,      \n",
    "    \n",
    "     # ... and so on. You get the idea ...\n",
    "})\n",
    "data1['KitchenQual']=data1['KitchenQual'].fillna(-1)"
   ]
  },
  {
   "cell_type": "code",
   "execution_count": 37,
   "metadata": {},
   "outputs": [],
   "source": [
    "data['Functional']=data.Functional.map({\n",
    "    'Sal': 0,\n",
    "    'Sev': 1,\n",
    "    'Maj2': 2,\n",
    "    'Maj1': 3,\n",
    "    'Mod': 4,\n",
    "    'Min2':5,\n",
    "    'Min1':6,\n",
    "    'Typ':7\n",
    "    \n",
    "     # ... and so on. You get the idea ...\n",
    "})\n",
    "data['Functional']=data['Functional'].fillna(-1)\n",
    "data1['Functional']=data1.Functional.map({\n",
    "    'Sal': 0,\n",
    "    'Sev': 1,\n",
    "    'Maj2': 2,\n",
    "    'Maj1': 3,\n",
    "    'Mod': 4,\n",
    "    'Min2':5,\n",
    "    'Min1':6,\n",
    "    'Typ':7\n",
    "    \n",
    "     # ... and so on. You get the idea ...\n",
    "})\n",
    "data1['Functional']=data1['Functional'].fillna(-1)"
   ]
  },
  {
   "cell_type": "code",
   "execution_count": 38,
   "metadata": {},
   "outputs": [],
   "source": [
    "data['FireplaceQu']=data.FireplaceQu.map({\n",
    "    'NA':-1, \n",
    "    'Po': 0,\n",
    "    'Fa': 1,\n",
    "    'TA': 2,\n",
    "    'Gd': 3,\n",
    "    'Ex': 4,      \n",
    "    \n",
    "     # ... and so on. You get the idea ...\n",
    "})\n",
    "data['FireplaceQu']=data['FireplaceQu'].fillna(-1)\n",
    "data1['FireplaceQu']=data1.FireplaceQu.map({\n",
    "    'NA':-1, \n",
    "    'Po': 0,\n",
    "    'Fa': 1,\n",
    "    'TA': 2,\n",
    "    'Gd': 3,\n",
    "    'Ex': 4,      \n",
    "    \n",
    "     # ... and so on. You get the idea ...\n",
    "})\n",
    "data1['FireplaceQu']=data1['FireplaceQu'].fillna(-1)"
   ]
  },
  {
   "cell_type": "code",
   "execution_count": 39,
   "metadata": {},
   "outputs": [],
   "source": [
    "data['GarageYrBlt']=data['GarageYrBlt'].fillna(data['GarageYrBlt'].mean())\n",
    "data['GarageCars']=data['GarageCars'].fillna(0)\n",
    "data['GarageArea']=data['GarageArea'].fillna(0)\n",
    "data=pd.get_dummies(data, columns=[\"GarageType\"])\n",
    "data1['GarageYrBlt']=data1['GarageYrBlt'].fillna(data1['GarageYrBlt'].mean())\n",
    "data1['GarageCars']=data1['GarageCars'].fillna(0)\n",
    "data1['GarageArea']=data1['GarageArea'].fillna(0)\n",
    "data1=pd.get_dummies(data1, columns=[\"GarageType\"])"
   ]
  },
  {
   "cell_type": "code",
   "execution_count": 40,
   "metadata": {},
   "outputs": [],
   "source": [
    "data['GarageFinish']=data.GarageFinish.map({\n",
    "    'NA':-1, \n",
    "    'Unf': 0,\n",
    "    'RFn': 1,\n",
    "    'Fin': 2,\n",
    "         \n",
    "    \n",
    "     # ... and so on. You get the idea ...\n",
    "})\n",
    "data['GarageFinish']=data['GarageFinish'].fillna(-1)\n",
    "data1['GarageFinish']=data1.GarageFinish.map({\n",
    "    'NA':-1, \n",
    "    'Unf': 0,\n",
    "    'RFn': 1,\n",
    "    'Fin': 2,\n",
    "         \n",
    "    \n",
    "     # ... and so on. You get the idea ...\n",
    "})\n",
    "data1['GarageFinish']=data1['GarageFinish'].fillna(-1)"
   ]
  },
  {
   "cell_type": "code",
   "execution_count": 41,
   "metadata": {},
   "outputs": [],
   "source": [
    "data['GarageQual']=data.GarageQual.map({\n",
    "    'NA':-1, \n",
    "    'Po': 0,\n",
    "    'Fa': 1,\n",
    "    'TA': 2,\n",
    "    'Gd': 3,\n",
    "    'Ex': 4,      \n",
    "    \n",
    "     # ... and so on. You get the idea ...\n",
    "})\n",
    "data['GarageQual']=data['GarageQual'].fillna(-1)\n",
    "data1['GarageQual']=data1.GarageQual.map({\n",
    "    'NA':-1, \n",
    "    'Po': 0,\n",
    "    'Fa': 1,\n",
    "    'TA': 2,\n",
    "    'Gd': 3,\n",
    "    'Ex': 4,      \n",
    "    \n",
    "     # ... and so on. You get the idea ...\n",
    "})\n",
    "data1['GarageQual']=data1['GarageQual'].fillna(-1)"
   ]
  },
  {
   "cell_type": "code",
   "execution_count": 42,
   "metadata": {},
   "outputs": [],
   "source": [
    "data['GarageCond']=data.GarageCond.map({\n",
    "    'NA':-1, \n",
    "    'Po': 0,\n",
    "    'Fa': 1,\n",
    "    'TA': 2,\n",
    "    'Gd': 3,\n",
    "    'Ex': 4,      \n",
    "    \n",
    "     # ... and so on. You get the idea ...\n",
    "})\n",
    "data['GarageCond']=data['GarageCond'].fillna(-1)\n",
    "data1['GarageCond']=data1.GarageCond.map({\n",
    "    'NA':-1, \n",
    "    'Po': 0,\n",
    "    'Fa': 1,\n",
    "    'TA': 2,\n",
    "    'Gd': 3,\n",
    "    'Ex': 4,      \n",
    "    \n",
    "     # ... and so on. You get the idea ...\n",
    "})\n",
    "data1['GarageCond']=data1['GarageCond'].fillna(-1)"
   ]
  },
  {
   "cell_type": "code",
   "execution_count": 43,
   "metadata": {},
   "outputs": [],
   "source": [
    "data['PavedDrive']=data.PavedDrive.map({\n",
    "    'Y':1, \n",
    "    'P': 0,\n",
    "    'N': -1,\n",
    "         \n",
    "    \n",
    "     # ... and so on. You get the idea ...\n",
    "})\n",
    "data1['PavedDrive']=data1.PavedDrive.map({\n",
    "    'Y':1, \n",
    "    'P': 0,\n",
    "    'N': -1,\n",
    "         \n",
    "    \n",
    "     # ... and so on. You get the idea ...\n",
    "})"
   ]
  },
  {
   "cell_type": "code",
   "execution_count": 44,
   "metadata": {},
   "outputs": [],
   "source": [
    "data['PoolQC']=data.PoolQC.map({\n",
    "    'NA':-1, \n",
    "    \n",
    "    'Fa': 1,\n",
    "    'TA': 2,\n",
    "    'Gd': 3,\n",
    "    'Ex': 4,      \n",
    "    \n",
    "     # ... and so on. You get the idea ...\n",
    "})\n",
    "data['PoolQC']=data['PoolQC'].fillna(-1)\n",
    "data1['PoolQC']=data1.PoolQC.map({\n",
    "    'NA':-1, \n",
    "    \n",
    "    'Fa': 1,\n",
    "    'TA': 2,\n",
    "    'Gd': 3,\n",
    "    'Ex': 4,      \n",
    "    \n",
    "     # ... and so on. You get the idea ...\n",
    "})\n",
    "data1['PoolQC']=data1['PoolQC'].fillna(-1)"
   ]
  },
  {
   "cell_type": "code",
   "execution_count": 45,
   "metadata": {},
   "outputs": [],
   "source": [
    "data['Fence']=data.Fence.map({\n",
    "    'NA':-1, \n",
    "    \n",
    "    'MnWw': 0,\n",
    "    'GdWo': 1,\n",
    "    'MnPrv': 2,\n",
    "    'GdPrv': 3,      \n",
    "    \n",
    "     # ... and so on. You get the idea ...\n",
    "})\n",
    "data['Fence']=data['Fence'].fillna(-1)\n",
    "data1['Fence']=data1.Fence.map({\n",
    "    'NA':-1, \n",
    "    \n",
    "    'MnWw': 0,\n",
    "    'GdWo': 1,\n",
    "    'MnPrv': 2,\n",
    "    'GdPrv': 3,      \n",
    "    \n",
    "     # ... and so on. You get the idea ...\n",
    "})\n",
    "data1['Fence']=data1['Fence'].fillna(-1)"
   ]
  },
  {
   "cell_type": "code",
   "execution_count": 46,
   "metadata": {},
   "outputs": [],
   "source": [
    "data=pd.get_dummies(data, columns=[\"MiscFeature\"])\n",
    "data=pd.get_dummies(data, columns=[\"SaleType\"])\n",
    "data=pd.get_dummies(data, columns=[\"SaleCondition\"])\n",
    "data1=pd.get_dummies(data1, columns=[\"MiscFeature\"])\n",
    "data1=pd.get_dummies(data1, columns=[\"SaleType\"])\n",
    "data1=pd.get_dummies(data1, columns=[\"SaleCondition\"])"
   ]
  },
  {
   "cell_type": "code",
   "execution_count": 47,
   "metadata": {},
   "outputs": [
    {
     "name": "stdout",
     "output_type": "stream",
     "text": [
      "Index(['Id', 'MSSubClass', 'LotFrontage', 'LotArea', 'LotShape', 'Utilities',\n",
      "       'LandSlope', 'HouseStyle', 'OverallQual', 'OverallCond',\n",
      "       ...\n",
      "       'SaleType_ConLw', 'SaleType_New', 'SaleType_Oth', 'SaleType_WD',\n",
      "       'SaleCondition_Abnorml', 'SaleCondition_AdjLand',\n",
      "       'SaleCondition_Alloca', 'SaleCondition_Family', 'SaleCondition_Normal',\n",
      "       'SaleCondition_Partial'],\n",
      "      dtype='object', length=212)\n"
     ]
    }
   ],
   "source": [
    "print(data.columns)"
   ]
  },
  {
   "cell_type": "code",
   "execution_count": 48,
   "metadata": {},
   "outputs": [
    {
     "name": "stdout",
     "output_type": "stream",
     "text": [
      "212\n",
      "198\n"
     ]
    }
   ],
   "source": [
    "print(len(data.columns))\n",
    "print(len(data1.columns))"
   ]
  },
  {
   "cell_type": "code",
   "execution_count": 49,
   "metadata": {},
   "outputs": [],
   "source": [
    "data_test=data1"
   ]
  },
  {
   "cell_type": "code",
   "execution_count": 50,
   "metadata": {},
   "outputs": [],
   "source": [
    "cols = list(data.columns.values) #Make a list of all of the columns in the df\n",
    "cols.pop(cols.index('SalePrice')) #Remove b from list\n",
    "#Remove x from list\n",
    "data_train = data[cols+['SalePrice']] #Create new dataframe with columns in the order you want"
   ]
  },
  {
   "cell_type": "code",
   "execution_count": 51,
   "metadata": {},
   "outputs": [],
   "source": [
    "a=set(data_train.columns)\n",
    "b=set(data_test.columns)"
   ]
  },
  {
   "cell_type": "code",
   "execution_count": 52,
   "metadata": {},
   "outputs": [
    {
     "data": {
      "text/plain": [
       "{'Condition2_RRAe',\n",
       " 'Condition2_RRAn',\n",
       " 'Condition2_RRNn',\n",
       " 'Exterior1st_ImStucc',\n",
       " 'Exterior1st_Stone',\n",
       " 'Exterior2nd_Other',\n",
       " 'Heating_Floor',\n",
       " 'Heating_OthW',\n",
       " 'MiscFeature_TenC',\n",
       " 'RoofMatl_ClyTile',\n",
       " 'RoofMatl_Membran',\n",
       " 'RoofMatl_Metal',\n",
       " 'RoofMatl_Roll',\n",
       " 'SalePrice'}"
      ]
     },
     "execution_count": 52,
     "metadata": {},
     "output_type": "execute_result"
    }
   ],
   "source": [
    "a.difference(b)"
   ]
  },
  {
   "cell_type": "code",
   "execution_count": 53,
   "metadata": {},
   "outputs": [],
   "source": [
    "k=[0 for i in range(0,1459)]"
   ]
  },
  {
   "cell_type": "code",
   "execution_count": 54,
   "metadata": {},
   "outputs": [],
   "source": [
    "data_test['Condition2_RRAe']=0\n",
    "data_test['Condition2_RRAn']=0\n",
    "data_test['Condition2_RRNn']=0\n",
    "data_test['Exterior1st_ImStucc']=0\n",
    "data_test['Exterior1st_Stone']=0\n",
    "data_test['Exterior2nd_Other']=0\n",
    "data_test['Heating_Floor']=0\n",
    "data_test['Heating_OthW']=0\n",
    "data_test['MiscFeature_TenC']=0\n",
    "data_test['RoofMatl_ClyTile']=0\n",
    "data_test['RoofMatl_Membran']=0\n",
    "data_test['RoofMatl_Metal']=0\n",
    "data_test['RoofMatl_Roll']=0\n"
   ]
  },
  {
   "cell_type": "code",
   "execution_count": 55,
   "metadata": {},
   "outputs": [
    {
     "name": "stdout",
     "output_type": "stream",
     "text": [
      "212 211\n"
     ]
    }
   ],
   "source": [
    "a=set(data_train.columns)\n",
    "b=set(data_test.columns)\n",
    "print(len(a),len(b))"
   ]
  },
  {
   "cell_type": "code",
   "execution_count": 56,
   "metadata": {},
   "outputs": [
    {
     "data": {
      "text/plain": [
       "{'SalePrice'}"
      ]
     },
     "execution_count": 56,
     "metadata": {},
     "output_type": "execute_result"
    }
   ],
   "source": [
    "a.difference(b)"
   ]
  },
  {
   "cell_type": "code",
   "execution_count": 57,
   "metadata": {},
   "outputs": [],
   "source": [
    "data_train = data_train.reindex(sorted(data_train.columns), axis=1)\n",
    "data_test = data_test.reindex(sorted(data_test.columns), axis=1)"
   ]
  },
  {
   "cell_type": "code",
   "execution_count": 58,
   "metadata": {},
   "outputs": [],
   "source": [
    "data_train.drop(['Id'], axis=1, inplace=True)\n",
    "data_test.drop(['Id'], axis=1, inplace=True)"
   ]
  },
  {
   "cell_type": "code",
   "execution_count": 59,
   "metadata": {},
   "outputs": [
    {
     "name": "stdout",
     "output_type": "stream",
     "text": [
      "   1stFlrSF  2ndFlrSF  3SsnPorch  Alley_Grvl  Alley_Pave  BedroomAbvGr  \\\n",
      "0       856       854          0           0           0             3   \n",
      "1      1262         0          0           0           0             3   \n",
      "2       920       866          0           0           0             3   \n",
      "3       961       756          0           0           0             3   \n",
      "4      1145      1053          0           0           0             4   \n",
      "\n",
      "   BldgType_1Fam  BldgType_2fmCon  BldgType_Duplex  BldgType_Twnhs  ...  \\\n",
      "0              1                0                0               0  ...   \n",
      "1              1                0                0               0  ...   \n",
      "2              1                0                0               0  ...   \n",
      "3              1                0                0               0  ...   \n",
      "4              1                0                0               0  ...   \n",
      "\n",
      "   ScreenPorch  Street_Grvl  Street_Pave  TotRmsAbvGrd  TotalBsmtSF  \\\n",
      "0            0            0            1             8          856   \n",
      "1            0            0            1             6         1262   \n",
      "2            0            0            1             6          920   \n",
      "3            0            0            1             7          756   \n",
      "4            0            0            1             9         1145   \n",
      "\n",
      "   Utilities  WoodDeckSF  YearBuilt  YearRemodAdd  YrSold  \n",
      "0          3           0       2003          2003    2008  \n",
      "1          3         298       1976          1976    2007  \n",
      "2          3           0       2001          2002    2008  \n",
      "3          3           0       1915          1970    2006  \n",
      "4          3         192       2000          2000    2008  \n",
      "\n",
      "[5 rows x 211 columns]\n",
      "   1stFlrSF  2ndFlrSF  3SsnPorch  Alley_Grvl  Alley_Pave  BedroomAbvGr  \\\n",
      "0       896         0          0           0           0             2   \n",
      "1      1329         0          0           0           0             3   \n",
      "2       928       701          0           0           0             3   \n",
      "3       926       678          0           0           0             3   \n",
      "4      1280         0          0           0           0             2   \n",
      "\n",
      "   BldgType_1Fam  BldgType_2fmCon  BldgType_Duplex  BldgType_Twnhs  ...  \\\n",
      "0              1                0                0               0  ...   \n",
      "1              1                0                0               0  ...   \n",
      "2              1                0                0               0  ...   \n",
      "3              1                0                0               0  ...   \n",
      "4              0                0                0               0  ...   \n",
      "\n",
      "   ScreenPorch  Street_Grvl  Street_Pave  TotRmsAbvGrd  TotalBsmtSF  \\\n",
      "0          120            0            1             5        882.0   \n",
      "1            0            0            1             6       1329.0   \n",
      "2            0            0            1             6        928.0   \n",
      "3            0            0            1             7        926.0   \n",
      "4          144            0            1             5       1280.0   \n",
      "\n",
      "   Utilities  WoodDeckSF  YearBuilt  YearRemodAdd  YrSold  \n",
      "0        3.0         140       1961          1961    2010  \n",
      "1        3.0         393       1958          1958    2010  \n",
      "2        3.0         212       1997          1998    2010  \n",
      "3        3.0         360       1998          1998    2010  \n",
      "4        3.0           0       1992          1992    2010  \n",
      "\n",
      "[5 rows x 210 columns]\n"
     ]
    }
   ],
   "source": [
    "print(data_train.head())\n",
    "print(data_test.head())"
   ]
  },
  {
   "cell_type": "code",
   "execution_count": 60,
   "metadata": {},
   "outputs": [],
   "source": [
    "cols = list(data_train.columns.values) #Make a list of all of the columns in the df\n",
    "cols.pop(cols.index('SalePrice')) #Remove b from list\n",
    "#Remove x from list\n",
    "data_train = data_train[cols+['SalePrice']]"
   ]
  },
  {
   "cell_type": "code",
   "execution_count": 61,
   "metadata": {},
   "outputs": [
    {
     "name": "stdout",
     "output_type": "stream",
     "text": [
      "   1stFlrSF  2ndFlrSF  3SsnPorch  Alley_Grvl  Alley_Pave  BedroomAbvGr  \\\n",
      "0       856       854          0           0           0             3   \n",
      "1      1262         0          0           0           0             3   \n",
      "2       920       866          0           0           0             3   \n",
      "3       961       756          0           0           0             3   \n",
      "4      1145      1053          0           0           0             4   \n",
      "\n",
      "   BldgType_1Fam  BldgType_2fmCon  BldgType_Duplex  BldgType_Twnhs  ...  \\\n",
      "0              1                0                0               0  ...   \n",
      "1              1                0                0               0  ...   \n",
      "2              1                0                0               0  ...   \n",
      "3              1                0                0               0  ...   \n",
      "4              1                0                0               0  ...   \n",
      "\n",
      "   Street_Grvl  Street_Pave  TotRmsAbvGrd  TotalBsmtSF  Utilities  WoodDeckSF  \\\n",
      "0            0            1             8          856          3           0   \n",
      "1            0            1             6         1262          3         298   \n",
      "2            0            1             6          920          3           0   \n",
      "3            0            1             7          756          3           0   \n",
      "4            0            1             9         1145          3         192   \n",
      "\n",
      "   YearBuilt  YearRemodAdd  YrSold  SalePrice  \n",
      "0       2003          2003    2008     208500  \n",
      "1       1976          1976    2007     181500  \n",
      "2       2001          2002    2008     223500  \n",
      "3       1915          1970    2006     140000  \n",
      "4       2000          2000    2008     250000  \n",
      "\n",
      "[5 rows x 211 columns]\n"
     ]
    }
   ],
   "source": [
    "print(data_train.head())"
   ]
  },
  {
   "cell_type": "code",
   "execution_count": 62,
   "metadata": {},
   "outputs": [
    {
     "name": "stdout",
     "output_type": "stream",
     "text": [
      "211 210\n"
     ]
    }
   ],
   "source": [
    "a=set(data_train.columns)\n",
    "b=set(data_test.columns)\n",
    "print(len(a),len(b))"
   ]
  },
  {
   "cell_type": "code",
   "execution_count": 63,
   "metadata": {},
   "outputs": [],
   "source": [
    "X = data_train.iloc[:, :-1].values\n",
    "y = data_train.iloc[:, -1].values"
   ]
  },
  {
   "cell_type": "code",
   "execution_count": 64,
   "metadata": {},
   "outputs": [
    {
     "data": {
      "text/plain": [
       "(1460, 210)"
      ]
     },
     "execution_count": 64,
     "metadata": {},
     "output_type": "execute_result"
    }
   ],
   "source": [
    "X.shape"
   ]
  },
  {
   "cell_type": "code",
   "execution_count": 65,
   "metadata": {},
   "outputs": [
    {
     "data": {
      "text/plain": [
       "208500"
      ]
     },
     "execution_count": 65,
     "metadata": {},
     "output_type": "execute_result"
    }
   ],
   "source": [
    "y[0]"
   ]
  },
  {
   "cell_type": "code",
   "execution_count": 104,
   "metadata": {},
   "outputs": [],
   "source": [
    "import lightgbm as lgb\n",
    "lightgbm = lgb.LGBMRegressor(objective='regression', \n",
    "                                       num_leaves=4,\n",
    "                                       learning_rate=0.01, \n",
    "                                       n_estimators=9000,\n",
    "                                       max_bin=200, \n",
    "                                       bagging_fraction=0.75,\n",
    "                                       bagging_freq=5, \n",
    "                                       bagging_seed=7,\n",
    "                                       feature_fraction=0.2,\n",
    "                                       feature_fraction_seed=7,\n",
    "                                       verbose=-1,\n",
    "                                       )"
   ]
  },
  {
   "cell_type": "code",
   "execution_count": 105,
   "metadata": {},
   "outputs": [],
   "source": [
    "lightgbm.fit(X,y)\n",
    "y_train_pred=lightgbm.predict(X)\n"
   ]
  },
  {
   "cell_type": "code",
   "execution_count": 106,
   "metadata": {},
   "outputs": [
    {
     "name": "stdout",
     "output_type": "stream",
     "text": [
      "0.07817955634537288\n"
     ]
    }
   ],
   "source": [
    "import numpy as np\n",
    "from sklearn.metrics import mean_squared_log_error\n",
    "print(np.sqrt(mean_squared_log_error( y_train_pred,y )))\n"
   ]
  },
  {
   "cell_type": "code",
   "execution_count": 69,
   "metadata": {},
   "outputs": [],
   "source": [
    "import xgboost as xgb\n",
    "from xgboost.sklearn import XGBRegressor\n",
    "\n",
    "xgboost = XGBRegressor(learning_rate=0.01,n_estimators=3460,\n",
    "                                     max_depth=3, min_child_weight=0,\n",
    "                                     gamma=0, subsample=0.7,\n",
    "                                     colsample_bytree=0.7,\n",
    "                                     objective='reg:linear', nthread=-1,\n",
    "                                     scale_pos_weight=1, seed=27,\n",
    "                                     reg_alpha=0.00006)"
   ]
  },
  {
   "cell_type": "code",
   "execution_count": 70,
   "metadata": {},
   "outputs": [
    {
     "name": "stdout",
     "output_type": "stream",
     "text": [
      "[16:27:51] WARNING: C:/Jenkins/workspace/xgboost-win64_release_0.90/src/objective/regression_obj.cu:152: reg:linear is now deprecated in favor of reg:squarederror.\n"
     ]
    }
   ],
   "source": [
    "xgboost.fit(X,y)\n",
    "y_train_pred=xgboost.predict(X)\n"
   ]
  },
  {
   "cell_type": "code",
   "execution_count": 71,
   "metadata": {},
   "outputs": [
    {
     "name": "stdout",
     "output_type": "stream",
     "text": [
      "0.059116171282191515\n"
     ]
    }
   ],
   "source": [
    "import numpy as np\n",
    "from sklearn.metrics import mean_squared_log_error\n",
    "print(np.sqrt(mean_squared_log_error( y_train_pred,y )))\n"
   ]
  },
  {
   "cell_type": "code",
   "execution_count": 72,
   "metadata": {},
   "outputs": [],
   "source": [
    "from sklearn import ensemble\n",
    "gbr = ensemble.GradientBoostingRegressor(n_estimators=3000, learning_rate=0.05, max_depth=4, max_features='sqrt', min_samples_leaf=15, min_samples_split=10, loss='huber', random_state =42) \n",
    "gbr.fit(X,y)\n",
    "y_train_pred=gbr.predict(X)"
   ]
  },
  {
   "cell_type": "code",
   "execution_count": 73,
   "metadata": {},
   "outputs": [
    {
     "name": "stdout",
     "output_type": "stream",
     "text": [
      "0.05941565580127226\n"
     ]
    }
   ],
   "source": [
    "import numpy as np\n",
    "from sklearn.metrics import mean_squared_log_error\n",
    "print(np.sqrt(mean_squared_log_error(y_train_pred,y )))\n"
   ]
  },
  {
   "cell_type": "code",
   "execution_count": 74,
   "metadata": {},
   "outputs": [
    {
     "name": "stdout",
     "output_type": "stream",
     "text": [
      "a\n"
     ]
    }
   ],
   "source": [
    "from sklearn.model_selection import GridSearchCV\n",
    "from sklearn.ensemble import RandomForestRegressor\n",
    "gsc = GridSearchCV(estimator=RandomForestRegressor(),param_grid={'max_depth': [3,None],'n_estimators': (10,50),},cv=5, scoring='neg_mean_squared_error', verbose=0,n_jobs=-1)\n",
    "grid_result = gsc.fit(X, y)\n",
    "best_params = grid_result.best_params_ \n",
    "rfr = RandomForestRegressor(max_depth=best_params[\"max_depth\"], n_estimators=best_params[\"n_estimators\"],random_state=False, verbose=False)\n",
    "print('a')"
   ]
  },
  {
   "cell_type": "code",
   "execution_count": 75,
   "metadata": {},
   "outputs": [],
   "source": [
    "rfr.fit(X,y)\n",
    "y_train_pred=rfr.predict(X)"
   ]
  },
  {
   "cell_type": "code",
   "execution_count": 76,
   "metadata": {},
   "outputs": [
    {
     "name": "stdout",
     "output_type": "stream",
     "text": [
      "0.058724940367484116\n"
     ]
    }
   ],
   "source": [
    "import numpy as np\n",
    "from sklearn.metrics import mean_squared_log_error\n",
    "print(np.sqrt(mean_squared_log_error( y_train_pred,y )))\n"
   ]
  },
  {
   "cell_type": "code",
   "execution_count": 107,
   "metadata": {},
   "outputs": [],
   "source": [
    "from mlxtend.regressor import StackingCVRegressor\n",
    "stack_gen = StackingCVRegressor(regressors=(gbr, xgboost, lightgbm,rfr),\n",
    "                                meta_regressor=xgboost,\n",
    "                                use_features_in_secondary=True)"
   ]
  },
  {
   "cell_type": "code",
   "execution_count": 108,
   "metadata": {},
   "outputs": [
    {
     "name": "stdout",
     "output_type": "stream",
     "text": [
      "[16:44:36] WARNING: C:/Jenkins/workspace/xgboost-win64_release_0.90/src/objective/regression_obj.cu:152: reg:linear is now deprecated in favor of reg:squarederror.\n",
      "[16:45:00] WARNING: C:/Jenkins/workspace/xgboost-win64_release_0.90/src/objective/regression_obj.cu:152: reg:linear is now deprecated in favor of reg:squarederror.\n",
      "[16:45:25] WARNING: C:/Jenkins/workspace/xgboost-win64_release_0.90/src/objective/regression_obj.cu:152: reg:linear is now deprecated in favor of reg:squarederror.\n",
      "[16:45:50] WARNING: C:/Jenkins/workspace/xgboost-win64_release_0.90/src/objective/regression_obj.cu:152: reg:linear is now deprecated in favor of reg:squarederror.\n",
      "[16:46:15] WARNING: C:/Jenkins/workspace/xgboost-win64_release_0.90/src/objective/regression_obj.cu:152: reg:linear is now deprecated in favor of reg:squarederror.\n",
      "[16:47:19] WARNING: C:/Jenkins/workspace/xgboost-win64_release_0.90/src/objective/regression_obj.cu:152: reg:linear is now deprecated in favor of reg:squarederror.\n",
      "[16:48:08] WARNING: C:/Jenkins/workspace/xgboost-win64_release_0.90/src/objective/regression_obj.cu:152: reg:linear is now deprecated in favor of reg:squarederror.\n"
     ]
    }
   ],
   "source": [
    "stack_gen.fit(X,y)\n",
    "y_train_pred=stack_gen.predict(X)"
   ]
  },
  {
   "cell_type": "code",
   "execution_count": 109,
   "metadata": {},
   "outputs": [
    {
     "name": "stdout",
     "output_type": "stream",
     "text": [
      "0.04852379288563941\n"
     ]
    }
   ],
   "source": [
    "import numpy as np\n",
    "from sklearn.metrics import mean_squared_log_error\n",
    "print(np.sqrt(mean_squared_log_error( y_train_pred,y )))\n"
   ]
  },
  {
   "cell_type": "code",
   "execution_count": 111,
   "metadata": {},
   "outputs": [],
   "source": [
    "def blend_models_predict(X):\n",
    "    return ((0.25 * gbr.predict(X)) + \\\n",
    "            (0.1 * rfr.predict(X)) + \\\n",
    "            \n",
    "            (0.25 * xgboost.predict(X)) + \\\n",
    "            (0.05 * lightgbm.predict(X)) + \\\n",
    "            (0.35 * stack_gen.predict(np.array(X))))"
   ]
  },
  {
   "cell_type": "code",
   "execution_count": 112,
   "metadata": {},
   "outputs": [],
   "source": [
    "y_train_pred=blend_models_predict(X)"
   ]
  },
  {
   "cell_type": "code",
   "execution_count": 113,
   "metadata": {},
   "outputs": [
    {
     "name": "stdout",
     "output_type": "stream",
     "text": [
      "0.04796370918578095\n"
     ]
    }
   ],
   "source": [
    "import numpy as np\n",
    "from sklearn.metrics import mean_squared_log_error\n",
    "print(np.sqrt(mean_squared_log_error( y_train_pred,y )))\n"
   ]
  },
  {
   "cell_type": "code",
   "execution_count": 114,
   "metadata": {},
   "outputs": [],
   "source": [
    "X2 = data_test.iloc[:, :].values"
   ]
  },
  {
   "cell_type": "code",
   "execution_count": 115,
   "metadata": {},
   "outputs": [],
   "source": [
    "y_test_pred=blend_models_predict(X2)"
   ]
  },
  {
   "cell_type": "code",
   "execution_count": 116,
   "metadata": {},
   "outputs": [],
   "source": [
    "result=pd.DataFrame()\n",
    "result['Id']=[i for i in range(1461,2920)]\n",
    "result['SalePrice']=y_test_pred"
   ]
  },
  {
   "cell_type": "code",
   "execution_count": 117,
   "metadata": {},
   "outputs": [
    {
     "name": "stdout",
     "output_type": "stream",
     "text": [
      "     Id      SalePrice\n",
      "0  1461  125851.733646\n",
      "1  1462  163632.448833\n",
      "2  1463  188067.046277\n",
      "3  1464  194908.443601\n",
      "4  1465  182987.713538\n"
     ]
    }
   ],
   "source": [
    "print(result.head())"
   ]
  },
  {
   "cell_type": "code",
   "execution_count": 222,
   "metadata": {},
   "outputs": [],
   "source": [
    "result.to_csv('submit8.csv',index=False) \n"
   ]
  },
  {
   "cell_type": "code",
   "execution_count": null,
   "metadata": {},
   "outputs": [],
   "source": []
  }
 ],
 "metadata": {
  "kernelspec": {
   "display_name": "Python 3",
   "language": "python",
   "name": "python3"
  },
  "language_info": {
   "codemirror_mode": {
    "name": "ipython",
    "version": 3
   },
   "file_extension": ".py",
   "mimetype": "text/x-python",
   "name": "python",
   "nbconvert_exporter": "python",
   "pygments_lexer": "ipython3",
   "version": "3.7.1"
  }
 },
 "nbformat": 4,
 "nbformat_minor": 2
}
